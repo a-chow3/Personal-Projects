{
 "cells": [
  {
   "cell_type": "code",
   "execution_count": 1,
   "id": "5a2d7849-54ad-4d78-b70b-5db3b45726d0",
   "metadata": {},
   "outputs": [],
   "source": [
    "# Import Libraries\n",
    "import pandas as pd\n",
    "import numpy as np\n",
    "from pathlib import Path"
   ]
  },
  {
   "cell_type": "code",
   "execution_count": 2,
   "id": "e6b56358-400f-48e1-b63a-2598fc836d93",
   "metadata": {},
   "outputs": [],
   "source": [
    "# Read Campaigns CSV as df\n",
    "df = pd.read_csv(\"campaigns.csv\")"
   ]
  },
  {
   "cell_type": "code",
   "execution_count": 3,
   "id": "5cd73ea4-6bc4-46fe-babf-10c07415c37c",
   "metadata": {},
   "outputs": [
    {
     "data": {
      "text/plain": [
       "Send Weekday\n",
       "Thursday     0.638300\n",
       "Friday       0.609100\n",
       "Monday       0.606747\n",
       "Tuesday      0.568940\n",
       "Wednesday    0.559717\n",
       "Name: Open Rate Value, dtype: float64"
      ]
     },
     "execution_count": 3,
     "metadata": {},
     "output_type": "execute_result"
    }
   ],
   "source": [
    "### Sort Weekday by the Open Rate where the total recipients are greater than 10\n",
    "\n",
    "\n",
    "# Create a column thaat converts the Open Rate percentages to decimals\n",
    "df['Open Rate Value'] = df['Open Rate'].str.rstrip('%').astype('float') / 100\n",
    "\n",
    "# Create a column thaat converts the Click Rate percentages to decimals\n",
    "df['Click Rate Value'] = df['Click Rate'].str.rstrip('%').astype('float') / 100\n",
    "\n",
    "# Create a DF for only emails that have at least 10 recipients\n",
    "df_tr_10 = df[df['Total Recipients'] > 10]\n",
    "\n",
    "# Series that Sorts the mean Open Rate for each Weekday\n",
    "weekday_by_or = df_tr_10.groupby('Send Weekday')['Open Rate Value'].mean().sort_values(ascending=False)\n",
    "weekday_by_or"
   ]
  },
  {
   "cell_type": "code",
   "execution_count": 4,
   "id": "ff21b802-d53a-4c95-a61b-c10220fb770c",
   "metadata": {},
   "outputs": [
    {
     "data": {
      "text/plain": [
       "\"\\nThursday, Friday, Monday, Tuesday, Wednesday -> these are the weekdays' open rate in descending order\\n\\nAs we can see, generally having email on the bookend of the week tend to be more effective, \\nas this is the time where most people check their emails because they are either just starting their week and need to check their emails, \\nor they are just finishing their week and have time to check their email before their week starts back up again\\n\\nThis is also slightly misleading because the two highest days: Thursday and Friday have only one value, where every other weekday has multiple values.\\n\\n\""
      ]
     },
     "execution_count": 4,
     "metadata": {},
     "output_type": "execute_result"
    }
   ],
   "source": [
    "'''\n",
    "Thursday, Friday, Monday, Tuesday, Wednesday -> these are the weekdays' open rate in descending order\n",
    "\n",
    "As we can see, generally having email on the bookend of the week tend to be more effective, \n",
    "as this is the time where most people check their emails because they are either just starting their week and need to check their emails, \n",
    "or they are just finishing their week and have time to check their email before their week starts back up again\n",
    "\n",
    "This is also slightly misleading because the two highest days: Thursday and Friday have only one value, where every other weekday has multiple values.\n",
    "\n",
    "'''"
   ]
  },
  {
   "cell_type": "code",
   "execution_count": 5,
   "id": "e52e4d7e-55c6-45af-bfe2-9ba373923c92",
   "metadata": {},
   "outputs": [
    {
     "data": {
      "text/plain": [
       "Send Weekday\n",
       "Thursday     0.117000\n",
       "Friday       0.090900\n",
       "Monday       0.074553\n",
       "Tuesday      0.026360\n",
       "Wednesday    0.006033\n",
       "Name: Click Rate Value, dtype: float64"
      ]
     },
     "execution_count": 5,
     "metadata": {},
     "output_type": "execute_result"
    }
   ],
   "source": [
    "### Sort Weekday by the Click Rate where the total recipients are greater than 10\n",
    "\n",
    "# Series that Sorts the mean Click Rate for each Weekday\n",
    "weekday_by_cr = df_tr_10.groupby('Send Weekday')['Click Rate Value'].mean().sort_values(ascending=False)\n",
    "weekday_by_cr"
   ]
  },
  {
   "cell_type": "code",
   "execution_count": 6,
   "id": "3de0edd6-2fde-43fe-bb71-4b03e18fa2af",
   "metadata": {},
   "outputs": [
    {
     "data": {
      "text/plain": [
       "'\\nextremely similar to the Open Rate Data\\n'"
      ]
     },
     "execution_count": 6,
     "metadata": {},
     "output_type": "execute_result"
    }
   ],
   "source": [
    "'''\n",
    "extremely similar to the Open Rate Data\n",
    "'''"
   ]
  },
  {
   "cell_type": "code",
   "execution_count": 7,
   "id": "fe03bd57-6ea9-4303-bec7-232174cf2b7f",
   "metadata": {},
   "outputs": [],
   "source": [
    "### Does Time of Day matter at all?\n",
    "\n",
    "# Convert to Datetime variable\n",
    "df['DateTime'] = pd.to_datetime(df['Send Date'], format='%b %d, %Y %I:%M %p')\n",
    "\n",
    "## Open/Click Rates based on time of day"
   ]
  },
  {
   "cell_type": "code",
   "execution_count": 8,
   "id": "99921c17-d5b1-442f-bb24-d6668c12f80f",
   "metadata": {},
   "outputs": [
    {
     "data": {
      "text/plain": [
       "0.63714"
      ]
     },
     "execution_count": 8,
     "metadata": {},
     "output_type": "execute_result"
    }
   ],
   "source": [
    "# 1am-Noon Open\n",
    "morning_or = df[(df['DateTime'].dt.hour >= 1) & (df['DateTime'].dt.hour < 12)]['Open Rate Value'].mean()\n",
    "morning_or"
   ]
  },
  {
   "cell_type": "code",
   "execution_count": 9,
   "id": "093fe37a-f04b-4a95-a67f-8327ab9f6eee",
   "metadata": {},
   "outputs": [
    {
     "data": {
      "text/plain": [
       "0.20724"
      ]
     },
     "execution_count": 9,
     "metadata": {},
     "output_type": "execute_result"
    }
   ],
   "source": [
    "# 1am-Noon Click\n",
    "morning_cr = df[(df['DateTime'].dt.hour >= 1) & (df['DateTime'].dt.hour < 12)]['Click Rate Value'].mean()\n",
    "morning_cr"
   ]
  },
  {
   "cell_type": "code",
   "execution_count": 10,
   "id": "4451c821-22a5-4db2-a083-985e8d568f4d",
   "metadata": {},
   "outputs": [
    {
     "data": {
      "text/plain": [
       "0.5850142857142858"
      ]
     },
     "execution_count": 10,
     "metadata": {},
     "output_type": "execute_result"
    }
   ],
   "source": [
    "# Noon-5pm Open\n",
    "afternoon_or = df[(df['DateTime'].dt.hour >= 12) & (df['DateTime'].dt.hour < 17)]['Open Rate Value'].mean()\n",
    "afternoon_or"
   ]
  },
  {
   "cell_type": "code",
   "execution_count": 11,
   "id": "d219512e-3d50-496c-b76b-215d46d334b1",
   "metadata": {},
   "outputs": [
    {
     "data": {
      "text/plain": [
       "0.04221428571428571"
      ]
     },
     "execution_count": 11,
     "metadata": {},
     "output_type": "execute_result"
    }
   ],
   "source": [
    "# Noon-5pm Click\n",
    "afternoon_cr = df[(df['DateTime'].dt.hour >= 12) & (df['DateTime'].dt.hour < 17)]['Click Rate Value'].mean()\n",
    "afternoon_cr"
   ]
  },
  {
   "cell_type": "code",
   "execution_count": 12,
   "id": "7777f446-76f6-46b5-95c6-2ad1823bec61",
   "metadata": {},
   "outputs": [
    {
     "data": {
      "text/plain": [
       "0.6171666666666666"
      ]
     },
     "execution_count": 12,
     "metadata": {},
     "output_type": "execute_result"
    }
   ],
   "source": [
    "# 5-9pm Open\n",
    "evening_or = df[(df['DateTime'].dt.hour >= 17) & (df['DateTime'].dt.hour < 21)]['Open Rate Value'].mean()\n",
    "evening_or"
   ]
  },
  {
   "cell_type": "code",
   "execution_count": 13,
   "id": "86ce9578-5d73-4b7d-bde7-e67faf188854",
   "metadata": {},
   "outputs": [
    {
     "data": {
      "text/plain": [
       "0.06086666666666666"
      ]
     },
     "execution_count": 13,
     "metadata": {},
     "output_type": "execute_result"
    }
   ],
   "source": [
    "# 5-9pm Click\n",
    "evening_cr = df[(df['DateTime'].dt.hour >= 17) & (df['DateTime'].dt.hour < 21)]['Click Rate Value'].mean()\n",
    "evening_cr"
   ]
  },
  {
   "cell_type": "code",
   "execution_count": 14,
   "id": "efeb2001-77e1-4a8f-a5bb-e99b694597ca",
   "metadata": {},
   "outputs": [
    {
     "data": {
      "text/plain": [
       "0.603491304347826"
      ]
     },
     "execution_count": 14,
     "metadata": {},
     "output_type": "execute_result"
    }
   ],
   "source": [
    "# 9-1am Open\n",
    "night_or = df[(df['DateTime'].dt.hour >= 21) | (df['DateTime'].dt.hour <= 1)]['Open Rate Value'].mean()\n",
    "night_or"
   ]
  },
  {
   "cell_type": "code",
   "execution_count": 15,
   "id": "edc65131-d66c-4921-8bd9-b23def34a518",
   "metadata": {},
   "outputs": [
    {
     "data": {
      "text/plain": [
       "0.08078260869565217"
      ]
     },
     "execution_count": 15,
     "metadata": {},
     "output_type": "execute_result"
    }
   ],
   "source": [
    "# 9-1am Click\n",
    "night_cr = df[(df['DateTime'].dt.hour >= 21) | (df['DateTime'].dt.hour <= 1)]['Click Rate Value'].mean()\n",
    "night_cr"
   ]
  },
  {
   "cell_type": "code",
   "execution_count": 16,
   "id": "a590e6be-8118-4f89-8e94-fded62ef7a81",
   "metadata": {},
   "outputs": [
    {
     "data": {
      "text/plain": [
       "'\\nOverall, the time of day seems to have very little impact on the open rate of the emails for each week. Much of this is proably due to there being no data column on how quickly these opens occur, essentially accounting all opens the same regardless of promptness.\\nTo test which times are the most effective it would be best to have an extra column detailing how quickly these recipients clicked on the respective email.\\nIn general, it seems that most of the people that check their Gracepoint email will everntually get to their email at some point in the day or the next day.\\nHowever, the least effective time seems to be in the afternoon, as this is the only time of day that does not eclipse an open rate of 60% - at 58.5%.\\n\\nAs the hours in the day increase, the attentiveness in regards to click rate in the email has a staggering difference between morning emails and email at any other times. \\n\\nStarting at around 20.724% click rate for morning emails, then this number was followed by a 4.22% click rate for afternoon emails, 6.09% click rate for evening emails, and 8.08% click rate for night emails.\\n'"
      ]
     },
     "execution_count": 16,
     "metadata": {},
     "output_type": "execute_result"
    }
   ],
   "source": [
    "'''\n",
    "Overall, the time of day seems to have very little impact on the open rate of the emails for each week. Much of this is proably due to there being no data column on how quickly these opens occur, essentially accounting all opens the same regardless of promptness.\n",
    "To test which times are the most effective it would be best to have an extra column detailing how quickly these recipients clicked on the respective email.\n",
    "In general, it seems that most of the people that check their Gracepoint email will everntually get to their email at some point in the day or the next day.\n",
    "However, the least effective time seems to be in the afternoon, as this is the only time of day that does not eclipse an open rate of 60% - at 58.5%.\n",
    "\n",
    "As the hours in the day increase, the attentiveness in regards to click rate in the email has a staggering difference between morning emails and email at any other times. \n",
    "\n",
    "Starting at around 20.724% click rate for morning emails, then this number was followed by a 4.22% click rate for afternoon emails, 6.09% click rate for evening emails, and 8.08% click rate for night emails.\n",
    "'''"
   ]
  },
  {
   "cell_type": "code",
   "execution_count": 17,
   "id": "c7b4017c-2656-4394-bdba-1f8570f45a52",
   "metadata": {},
   "outputs": [
    {
     "name": "stderr",
     "output_type": "stream",
     "text": [
      "/var/folders/lt/bpzfs8lx2l9frgz0m351c2kw0000gn/T/ipykernel_56941/264243483.py:25: FutureWarning: The default value of regex will change from True to False in a future version.\n",
      "  uva_emails['computing id'] = uva_emails['email'].str.replace('@virginia.edu', '')\n",
      "/var/folders/lt/bpzfs8lx2l9frgz0m351c2kw0000gn/T/ipykernel_56941/264243483.py:25: SettingWithCopyWarning: \n",
      "A value is trying to be set on a copy of a slice from a DataFrame.\n",
      "Try using .loc[row_indexer,col_indexer] = value instead\n",
      "\n",
      "See the caveats in the documentation: https://pandas.pydata.org/pandas-docs/stable/user_guide/indexing.html#returning-a-view-versus-a-copy\n",
      "  uva_emails['computing id'] = uva_emails['email'].str.replace('@virginia.edu', '')\n"
     ]
    },
    {
     "data": {
      "text/plain": [
       "rgp3qv     293\n",
       "qce3fh     126\n",
       "adw5ke     117\n",
       "mfG9RV     112\n",
       "awp8xj      94\n",
       "spb2jt      86\n",
       "fhc5mf      82\n",
       "dcf5kwt     80\n",
       "ybz3vj      78\n",
       "wst5qx      70\n",
       "wsa2dz      68\n",
       "dkh2ns      65\n",
       "fkm5qkx     64\n",
       "mxz6kx      58\n",
       "ajl5uu      57\n",
       "llp5ww      55\n",
       "nkd6gq      51\n",
       "pdq8rn      51\n",
       "efd3tr      49\n",
       "yaj2jf      48\n",
       "awk8eup     48\n",
       "rjv9ku      47\n",
       "mqx4vk      47\n",
       "ecr8yt      42\n",
       "xzc7xd      40\n",
       "aan3gds     35\n",
       "cfg6cp      35\n",
       "rxb9tm      34\n",
       "zga9sh      34\n",
       "eqb3tw      32\n",
       "vfr4fd      31\n",
       "eta8bm      30\n",
       "umt6cs      28\n",
       "jea5pb      28\n",
       "ktc8uq      27\n",
       "xhx5mq      25\n",
       "dva4ny      25\n",
       "ik4vrb      25\n",
       "syq8ft      24\n",
       "hmo3yvm     24\n",
       "msw3jg      24\n",
       "zux4wh      23\n",
       "zmc4vg      22\n",
       "Name: computing id, dtype: int64"
      ]
     },
     "execution_count": 17,
     "metadata": {},
     "output_type": "execute_result"
    }
   ],
   "source": [
    "### What students (emails/computing ids) check their email the most\n",
    "\n",
    "data_dir = Path.cwd() / \"granular_activity opens\"\n",
    "\n",
    "dfs = []\n",
    "\n",
    "for i in data_dir.iterdir():\n",
    "    df_opens = pd.read_csv(i)  \n",
    "    #df[\"Date\"] = pd.to_datetime(df[\"Date\"])\n",
    "    #df.set_index(\"dt\", inplace=True)\n",
    "    \n",
    "    ticker = i.stem \n",
    "    df_opens[\"ticker\"] = ticker\n",
    "    \n",
    "    dfs.append(df_opens)\n",
    "\n",
    "df_opens = pd.concat(dfs)\n",
    "\n",
    "df_opens.columns = df_opens.columns.str.lower()\n",
    "\n",
    "# Subset data to only include UVA student emails\n",
    "uva_emails = df_opens[df_opens['email'].str.endswith('@virginia.edu')]\n",
    "\n",
    "# Add \"Computing ID\" column to exclude the full email\n",
    "uva_emails['computing id'] = uva_emails['email'].str.replace('@virginia.edu', '')\n",
    "\n",
    "# Number of Opens per UVA Computing ID over the course of the year\n",
    "uva_cid_opens = uva_emails['computing id'].value_counts()\n",
    "\n",
    "### Which recipients almost always open emails (> 20 opens)\n",
    "greater_than_20_opens = uva_cid_opens[uva_cid_opens > 20]\n",
    "greater_than_20_opens"
   ]
  },
  {
   "cell_type": "code",
   "execution_count": 18,
   "id": "a66780b7-fab0-4506-80b5-6ccc168ac294",
   "metadata": {},
   "outputs": [
    {
     "data": {
      "text/plain": [
       "'\\nThese are the students that check their emails the most frequently and would typically be the most trustworthy in delievering information/updates to.\\n'"
      ]
     },
     "execution_count": 18,
     "metadata": {},
     "output_type": "execute_result"
    }
   ],
   "source": [
    "'''\n",
    "These are the students that check their emails the most frequently and would typically be the most trustworthy in delievering information/updates to.\n",
    "'''"
   ]
  },
  {
   "cell_type": "code",
   "execution_count": 19,
   "id": "ea43f99b-ab23-4f43-8514-c025226bf759",
   "metadata": {},
   "outputs": [
    {
     "data": {
      "text/plain": [
       "sdr2dm     9\n",
       "nyd6bx     9\n",
       "dvy4kv     9\n",
       "ntn3wm     8\n",
       "msr9vb     8\n",
       "byz7ex     8\n",
       "jcw4xjq    7\n",
       "pfp3zp     7\n",
       "gzg8pf     6\n",
       "jku8pk     6\n",
       "dqb3ft     6\n",
       "dhc5qr     6\n",
       "pmh3ax     6\n",
       "duk8su     5\n",
       "rag6sk     5\n",
       "yay6mu     5\n",
       "jxc9zq     4\n",
       "gww7fp     4\n",
       "ngf5nf     4\n",
       "dug2vy     4\n",
       "dhv3ea     3\n",
       "mxj5rk     3\n",
       "wrb8ky     2\n",
       "rmy7wn     2\n",
       "gcb9eu     1\n",
       "Name: computing id, dtype: int64"
      ]
     },
     "execution_count": 19,
     "metadata": {},
     "output_type": "execute_result"
    }
   ],
   "source": [
    "### Which recipients almost never open emails (> 10 opens)\n",
    "less_than_10_opens = uva_cid_opens[uva_cid_opens < 10]\n",
    "less_than_10_opens"
   ]
  },
  {
   "cell_type": "code",
   "execution_count": 20,
   "id": "0423f9a3-5982-4949-97f2-7ead9876a68b",
   "metadata": {},
   "outputs": [
    {
     "data": {
      "text/plain": [
       "\"\\nThese are the students' computing ids that frequently neglect their email.\\nOf all the recipients, these would be the students that we may consider removing from teh email list as they are not getting any added benefits of having the email sent to them weekly.\\n\""
      ]
     },
     "execution_count": 20,
     "metadata": {},
     "output_type": "execute_result"
    }
   ],
   "source": [
    "'''\n",
    "These are the students' computing ids that frequently neglect their email.\n",
    "Of all the recipients, these would be the students that we may consider removing from teh email list as they are not getting any added benefits of having the email sent to them weekly.\n",
    "'''"
   ]
  },
  {
   "cell_type": "code",
   "execution_count": 21,
   "id": "2489d5d6-7bce-44ea-adb5-88bf40a11e15",
   "metadata": {},
   "outputs": [
    {
     "data": {
      "text/plain": [
       "15074446_gp-c-ville-11-14-weekly-update        48\n",
       "15510646_gp-c-ville-1-17-weekly-update         25\n",
       "15508366_gp-c-ville-update-                    24\n",
       "15021713_week-of-9-12-update-                  24\n",
       "15512278_gp-c-ville-2-13-weekly-update         24\n",
       "15023657_week-10-3-gp-c-ville-updates          16\n",
       "15024977_gp-c-ville-week-10-17-updates         16\n",
       "15020165_carter-mountain-trip-8-27-campaign    15\n",
       "15074914_gp-c-ville-11-21-weekly-update        15\n",
       "15515878_gp-c-ville-4-10-weekly-update         10\n",
       "15073962_gp-c-ville-11-7-weekly-update         10\n",
       "Name: ticker, dtype: int64"
      ]
     },
     "execution_count": 21,
     "metadata": {},
     "output_type": "execute_result"
    }
   ],
   "source": [
    "### Over the Year, which events got the most clicks (ranked)\n",
    "\n",
    "data_dir = Path.cwd() / \"granular_activity clicks\"\n",
    "\n",
    "dfs = []\n",
    "\n",
    "for i in data_dir.iterdir():\n",
    "    df_clicks = pd.read_csv(i)  \n",
    "    #df[\"Date\"] = pd.to_datetime(df[\"Date\"])\n",
    "    #df.set_index(\"dt\", inplace=True)\n",
    "    \n",
    "    ticker = i.stem \n",
    "    df_clicks[\"ticker\"] = ticker\n",
    "    \n",
    "    dfs.append(df_clicks)\n",
    "\n",
    "df_clicks = pd.concat(dfs)\n",
    "\n",
    "df_clicks.columns = df_clicks.columns.str.lower()\n",
    "\n",
    "event_clicks = df_clicks[\"ticker\"].value_counts()\n",
    "\n",
    "greater_than_10_clicks = event_clicks[event_clicks >= 10]\n",
    "greater_than_10_clicks"
   ]
  },
  {
   "cell_type": "code",
   "execution_count": 22,
   "id": "d79a7ec6-0c84-4507-a43b-49b4cfa7f810",
   "metadata": {},
   "outputs": [
    {
     "data": {
      "text/plain": [
       "'\\nIn regards to email attentiveness, these were the events (in order) that seemed to have the biggest success over the course of the 2022-2023 school year.\\nMay be attributed to the specific event?\\nOr possibly the graphic? (Color, fonts, design?)\\nOr possibly the advertisement of the event during service?\\n'"
      ]
     },
     "execution_count": 22,
     "metadata": {},
     "output_type": "execute_result"
    }
   ],
   "source": [
    "'''\n",
    "In regards to email attentiveness, these were the events (in order) that seemed to have the biggest success over the course of the 2022-2023 school year.\n",
    "May be attributed to the specific event?\n",
    "Or possibly the graphic? (Color, fonts, design?)\n",
    "Or possibly the advertisement of the event during service?\n",
    "'''"
   ]
  }
 ],
 "metadata": {
  "kernelspec": {
   "display_name": "Python 3 (ipykernel)",
   "language": "python",
   "name": "python3"
  },
  "language_info": {
   "codemirror_mode": {
    "name": "ipython",
    "version": 3
   },
   "file_extension": ".py",
   "mimetype": "text/x-python",
   "name": "python",
   "nbconvert_exporter": "python",
   "pygments_lexer": "ipython3",
   "version": "3.9.13"
  }
 },
 "nbformat": 4,
 "nbformat_minor": 5
}
